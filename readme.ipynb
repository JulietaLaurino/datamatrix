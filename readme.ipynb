{
 "metadata": {
  "name": "",
  "signature": "sha256:e23d6b88fed8d9e0faef3fdf87297549d402b66454ea93f94e086f23c5ed0568"
 },
 "nbformat": 3,
 "nbformat_minor": 0,
 "worksheets": [
  {
   "cells": [
    {
     "cell_type": "heading",
     "level": 1,
     "metadata": {},
     "source": [
      "Python DataMatrix"
     ]
    },
    {
     "cell_type": "markdown",
     "metadata": {},
     "source": [
      "*An intuitive, Pythonic way to work with tabular data.*\n",
      "\n",
      "Sebastiaan Math\u00f4t  \n",
      "Copyright 2015-2016  \n",
      "http://www.cogsci.nl/smathot"
     ]
    },
    {
     "cell_type": "heading",
     "level": 2,
     "metadata": {},
     "source": [
      "About"
     ]
    },
    {
     "cell_type": "markdown",
     "metadata": {},
     "source": [
      "The `datamatrix` package provides a high-level, intuitive way to work with tabular data, that is, datasets that consist of named columns and numbered rows."
     ]
    },
    {
     "cell_type": "heading",
     "level": 3,
     "metadata": {},
     "source": [
      "License"
     ]
    },
    {
     "cell_type": "markdown",
     "metadata": {},
     "source": [
      "`python-datamatrix` is licensed under the [GNU General Public License v3](http://www.gnu.org/licenses/gpl-3.0.en.html)."
     ]
    },
    {
     "cell_type": "heading",
     "level": 3,
     "metadata": {},
     "source": [
      "Table of contents"
     ]
    },
    {
     "cell_type": "markdown",
     "metadata": {},
     "source": [
      "- [Basic usage](#Basic-usage)\n",
      "    - [Basic operations](#Basic-operations)\n",
      "    - [Accessing rows, columns, and cells](#Accessing-rows,-columns,-and-cells)\n",
      "    - [Iterating over rows, columns, and cells](#Iterating-over-rows,-columns,-and-cells)\n",
      "    - [Selecting data](#Selecting-data)"
     ]
    },
    {
     "cell_type": "heading",
     "level": 2,
     "metadata": {},
     "source": [
      "Basic usage"
     ]
    },
    {
     "cell_type": "heading",
     "level": 3,
     "metadata": {},
     "source": [
      "Basic operations"
     ]
    },
    {
     "cell_type": "markdown",
     "metadata": {},
     "source": [
      "Create a new `DataMatrix` object, and add a column (named `col`). By default, the column is of the `MixedColumn` type, which can store numeric and string data."
     ]
    },
    {
     "cell_type": "code",
     "collapsed": false,
     "input": [
      "from datamatrix import DataMatrix\n",
      "dm = DataMatrix(length=3)\n",
      "dm.col = 1, 2, 3\n",
      "dm.col[1] = 'x'\n",
      "print(dm)"
     ],
     "language": "python",
     "metadata": {},
     "outputs": [
      {
       "output_type": "stream",
       "stream": "stdout",
       "text": [
        "+---+-----+\n",
        "| # | col |\n",
        "+---+-----+\n",
        "| 0 | 1.0 |\n",
        "| 1 |  x  |\n",
        "| 2 | 3.0 |\n",
        "+---+-----+\n"
       ]
      }
     ],
     "prompt_number": 9
    },
    {
     "cell_type": "heading",
     "level": 3,
     "metadata": {},
     "source": [
      "Accessing rows, columns, and cells"
     ]
    },
    {
     "cell_type": "markdown",
     "metadata": {},
     "source": [
      "Access a row by index."
     ]
    },
    {
     "cell_type": "code",
     "collapsed": false,
     "input": [
      "print(dm[0])"
     ],
     "language": "python",
     "metadata": {},
     "outputs": [
      {
       "output_type": "stream",
       "stream": "stdout",
       "text": [
        "+------+-------+\n",
        "| Name | Value |\n",
        "+------+-------+\n",
        "| col  |  1.0  |\n",
        "+------+-------+\n"
       ]
      }
     ],
     "prompt_number": 10
    },
    {
     "cell_type": "markdown",
     "metadata": {},
     "source": [
      "Access a column by name. This returns a `BaseColumn` object."
     ]
    },
    {
     "cell_type": "code",
     "collapsed": false,
     "input": [
      "print(dm.col)"
     ],
     "language": "python",
     "metadata": {},
     "outputs": [
      {
       "output_type": "stream",
       "stream": "stdout",
       "text": [
        "col[1.0, 'x', 3.0]\n"
       ]
      }
     ],
     "prompt_number": 11
    },
    {
     "cell_type": "markdown",
     "metadata": {},
     "source": [
      "Access by slice or by list of indices. This returns another `DataMatrix` object."
     ]
    },
    {
     "cell_type": "code",
     "collapsed": false,
     "input": [
      "print(dm[1:3])\n",
      "print(dm[0, 2])"
     ],
     "language": "python",
     "metadata": {},
     "outputs": [
      {
       "output_type": "stream",
       "stream": "stdout",
       "text": [
        "+---+-----+\n",
        "| # | col |\n",
        "+---+-----+\n",
        "| 1 |  x  |\n",
        "| 2 | 3.0 |\n",
        "+---+-----+\n",
        "+---+-----+\n",
        "| # | col |\n",
        "+---+-----+\n",
        "| 0 | 1.0 |\n",
        "| 2 | 3.0 |\n",
        "+---+-----+\n"
       ]
      }
     ],
     "prompt_number": 12
    },
    {
     "cell_type": "markdown",
     "metadata": {},
     "source": [
      "Access a cell by column name and index."
     ]
    },
    {
     "cell_type": "code",
     "collapsed": false,
     "input": [
      "print(dm.col[0])"
     ],
     "language": "python",
     "metadata": {},
     "outputs": [
      {
       "output_type": "stream",
       "stream": "stdout",
       "text": [
        "1.0\n"
       ]
      }
     ],
     "prompt_number": 13
    },
    {
     "cell_type": "heading",
     "level": 3,
     "metadata": {},
     "source": [
      "Iterating over rows, columns, and cells"
     ]
    },
    {
     "cell_type": "code",
     "collapsed": false,
     "input": [
      "for row in dm:\n",
      "    print(row)"
     ],
     "language": "python",
     "metadata": {},
     "outputs": [
      {
       "output_type": "stream",
       "stream": "stdout",
       "text": [
        "+------+-------+\n",
        "| Name | Value |\n",
        "+------+-------+\n",
        "| col  |  1.0  |\n",
        "+------+-------+\n",
        "+------+-------+\n",
        "| Name | Value |\n",
        "+------+-------+\n",
        "| col  |   x   |\n",
        "+------+-------+\n",
        "+------+-------+\n",
        "| Name | Value |\n",
        "+------+-------+\n",
        "| col  |  3.0  |\n",
        "+------+-------+\n"
       ]
      }
     ],
     "prompt_number": 14
    },
    {
     "cell_type": "code",
     "collapsed": false,
     "input": [
      "for name, col in dm.columns:\n",
      "    print('%s = %s' % (name, col))"
     ],
     "language": "python",
     "metadata": {},
     "outputs": [
      {
       "output_type": "stream",
       "stream": "stdout",
       "text": [
        "col = col[1.0, 'x', 3.0]\n"
       ]
      }
     ],
     "prompt_number": 15
    },
    {
     "cell_type": "code",
     "collapsed": false,
     "input": [
      "for value in dm.col:\n",
      "    print(value)"
     ],
     "language": "python",
     "metadata": {},
     "outputs": [
      {
       "output_type": "stream",
       "stream": "stdout",
       "text": [
        "1.0\n",
        "x\n",
        "3.0\n"
       ]
      }
     ],
     "prompt_number": 16
    },
    {
     "cell_type": "code",
     "collapsed": false,
     "input": [
      "for name, value in dm[2]:\n",
      "    print('%s = %s' % (name, value))"
     ],
     "language": "python",
     "metadata": {},
     "outputs": [
      {
       "output_type": "stream",
       "stream": "stdout",
       "text": [
        "col = 3.0\n"
       ]
      }
     ],
     "prompt_number": 17
    },
    {
     "cell_type": "heading",
     "level": 3,
     "metadata": {},
     "source": [
      "Selecting data"
     ]
    },
    {
     "cell_type": "markdown",
     "metadata": {},
     "source": [
      "You can select by directly comparing columns to values. This returns a new `DataMatrix` object."
     ]
    },
    {
     "cell_type": "code",
     "collapsed": false,
     "input": [
      "print(dm.col > 1)\n",
      "dm_only_x = dm.col == 'x'\n",
      "print(dm_only_x)"
     ],
     "language": "python",
     "metadata": {},
     "outputs": [
      {
       "output_type": "stream",
       "stream": "stdout",
       "text": [
        "+---+-----+\n",
        "| # | col |\n",
        "+---+-----+\n",
        "| 2 | 3.0 |\n",
        "+---+-----+\n",
        "+---+-----+\n",
        "| # | col |\n",
        "+---+-----+\n",
        "| 1 |  x  |\n",
        "+---+-----+\n"
       ]
      }
     ],
     "prompt_number": 24
    },
    {
     "cell_type": "markdown",
     "metadata": {},
     "source": [
      "Multiple criteria can used as follows (the round brackets are necessary):"
     ]
    },
    {
     "cell_type": "code",
     "collapsed": false,
     "input": [
      "print((dm.col == 1) | (dm.col == 3))"
     ],
     "language": "python",
     "metadata": {},
     "outputs": [
      {
       "output_type": "stream",
       "stream": "stdout",
       "text": [
        "+---+-----+\n",
        "| # | col |\n",
        "+---+-----+\n",
        "| 0 | 1.0 |\n",
        "| 2 | 3.0 |\n",
        "+---+-----+\n"
       ]
      }
     ],
     "prompt_number": 22
    }
   ],
   "metadata": {}
  }
 ]
}