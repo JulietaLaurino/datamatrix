{
 "metadata": {
  "name": "",
  "signature": "sha256:f73b0913adb126b1bd56ed4beb5ad197dfd214d69b5a7841a2f03832d006f545"
 },
 "nbformat": 3,
 "nbformat_minor": 0,
 "worksheets": [
  {
   "cells": [
    {
     "cell_type": "heading",
     "level": 1,
     "metadata": {},
     "source": [
      "Python datamatrix cheatsheet"
     ]
    },
    {
     "cell_type": "markdown",
     "metadata": {},
     "source": [
      "*An intuitive, Pythonic way to work with tabular data.*\n",
      "\n",
      "Sebastiaan Math\u00f4t  \n",
      "Copyright 2015-2016  \n",
      "http://www.cogsci.nl/smathot"
     ]
    },
    {
     "cell_type": "heading",
     "level": 2,
     "metadata": {},
     "source": [
      "About"
     ]
    },
    {
     "cell_type": "markdown",
     "metadata": {},
     "source": [
      "The `datamatrix` package provides a high-level, intuitive way to work with tabular data, that is, datasets that consist of named columns and numbered rows."
     ]
    },
    {
     "cell_type": "heading",
     "level": 2,
     "metadata": {},
     "source": [
      "License"
     ]
    },
    {
     "cell_type": "markdown",
     "metadata": {},
     "source": [
      "`python-datamatrix` is licensed under the [GNU General Public License v3](http://www.gnu.org/licenses/gpl-3.0.en.html)."
     ]
    },
    {
     "cell_type": "heading",
     "level": 2,
     "metadata": {},
     "source": [
      "Table of contents"
     ]
    },
    {
     "cell_type": "markdown",
     "metadata": {},
     "source": [
      "- [Basic usage](#Basic-usage)\n",
      "    - [Basic operations](#Basic-operations)\n",
      "    - [Accessing rows, columns, and cells](#Accessing-rows,-columns,-and-cells)\n",
      "    - [Iterating over rows, columns, and cells](#Iterating-over-rows,-columns,-and-cells)\n",
      "    - [Selecting data](#Selecting-data)\n",
      "- [Working with numeric data](#Working-with-numeric-data)\n",
      "- [Working with contnuous data series](#Working-with-continous-data-series)"
     ]
    },
    {
     "cell_type": "heading",
     "level": 2,
     "metadata": {},
     "source": [
      "Basic usage"
     ]
    },
    {
     "cell_type": "heading",
     "level": 3,
     "metadata": {},
     "source": [
      "Basic operations"
     ]
    },
    {
     "cell_type": "markdown",
     "metadata": {},
     "source": [
      "Create a new `DataMatrix` object, and add a column (named `col`). By default, the column is of the `MixedColumn` type, which can store numeric and string data."
     ]
    },
    {
     "cell_type": "code",
     "collapsed": false,
     "input": [
      "from datamatrix import DataMatrix\n",
      "\n",
      "dm = DataMatrix(length=3)\n",
      "dm.col = 1, 2, 3\n",
      "dm.col[1] = 'x'\n",
      "print(dm)"
     ],
     "language": "python",
     "metadata": {},
     "outputs": [
      {
       "output_type": "stream",
       "stream": "stdout",
       "text": [
        "+---+-----+\n",
        "| # | col |\n",
        "+---+-----+\n",
        "| 0 | 1.0 |\n",
        "| 1 |  x  |\n",
        "| 2 | 3.0 |\n",
        "+---+-----+\n"
       ]
      }
     ],
     "prompt_number": 14
    },
    {
     "cell_type": "markdown",
     "metadata": {},
     "source": [
      "Concatenating two `DataMatrix` objects using the `<<` operator. Empty fields become `None`."
     ]
    },
    {
     "cell_type": "code",
     "collapsed": false,
     "input": [
      "from datamatrix import DataMatrix\n",
      "\n",
      "dm2 = DataMatrix(length=1)\n",
      "dm2.col2 = 'tmp'\n",
      "dm <<= dm2\n",
      "print(dm)"
     ],
     "language": "python",
     "metadata": {},
     "outputs": [
      {
       "output_type": "stream",
       "stream": "stdout",
       "text": [
        "+---+------+------+\n",
        "| # | col  | col2 |\n",
        "+---+------+------+\n",
        "| 0 | 1.0  | None |\n",
        "| 1 |  x   | None |\n",
        "| 2 | 3.0  | None |\n",
        "| 3 | None | tmp  |\n",
        "+---+------+------+\n"
       ]
      }
     ],
     "prompt_number": 15
    },
    {
     "cell_type": "markdown",
     "metadata": {},
     "source": [
      "Removing the last row (i.e. reducing the length) and removing a column."
     ]
    },
    {
     "cell_type": "code",
     "collapsed": false,
     "input": [
      "dm.length = 3\n",
      "del dm.col2\n",
      "print(dm)"
     ],
     "language": "python",
     "metadata": {},
     "outputs": [
      {
       "output_type": "stream",
       "stream": "stdout",
       "text": [
        "+---+-----+\n",
        "| # | col |\n",
        "+---+-----+\n",
        "| 0 | 1.0 |\n",
        "| 1 |  x  |\n",
        "| 2 | 3.0 |\n",
        "+---+-----+\n"
       ]
      }
     ],
     "prompt_number": 16
    },
    {
     "cell_type": "heading",
     "level": 3,
     "metadata": {},
     "source": [
      "Accessing rows, columns, and cells"
     ]
    },
    {
     "cell_type": "markdown",
     "metadata": {},
     "source": [
      "Access a row by index. This returns a `Row` object."
     ]
    },
    {
     "cell_type": "code",
     "collapsed": false,
     "input": [
      "row = dm[0]\n",
      "print(row)"
     ],
     "language": "python",
     "metadata": {},
     "outputs": [
      {
       "output_type": "stream",
       "stream": "stdout",
       "text": [
        "+------+-------+\n",
        "| Name | Value |\n",
        "+------+-------+\n",
        "| col  |  1.0  |\n",
        "+------+-------+\n"
       ]
      }
     ],
     "prompt_number": 17
    },
    {
     "cell_type": "markdown",
     "metadata": {},
     "source": [
      "From a `Row` object, you can get a cell by column name."
     ]
    },
    {
     "cell_type": "code",
     "collapsed": false,
     "input": [
      "print(row.col)"
     ],
     "language": "python",
     "metadata": {},
     "outputs": [
      {
       "output_type": "stream",
       "stream": "stdout",
       "text": [
        "1.0\n"
       ]
      }
     ],
     "prompt_number": 18
    },
    {
     "cell_type": "markdown",
     "metadata": {},
     "source": [
      "From a `DataMatrix` object, you can access a column by name. This returns a `MixedColumn` object (or another column object)."
     ]
    },
    {
     "cell_type": "code",
     "collapsed": false,
     "input": [
      "col = dm.col"
     ],
     "language": "python",
     "metadata": {},
     "outputs": [],
     "prompt_number": 19
    },
    {
     "cell_type": "markdown",
     "metadata": {},
     "source": [
      "From a `MixedColumn` object, you can get a cell by index."
     ]
    },
    {
     "cell_type": "code",
     "collapsed": false,
     "input": [
      "print(col[0])"
     ],
     "language": "python",
     "metadata": {},
     "outputs": [
      {
       "output_type": "stream",
       "stream": "stdout",
       "text": [
        "1.0\n"
       ]
      }
     ],
     "prompt_number": 20
    },
    {
     "cell_type": "markdown",
     "metadata": {},
     "source": [
      "From a `DataMatrix` object, you get. This returns another `DataMatrix` object."
     ]
    },
    {
     "cell_type": "code",
     "collapsed": false,
     "input": [
      "dm_slice1 = dm[1:3]\n",
      "print(dm_slice1)\n",
      "dm_slice2 = dm[0, 2]\n",
      "print(dm_slice2)"
     ],
     "language": "python",
     "metadata": {},
     "outputs": [
      {
       "output_type": "stream",
       "stream": "stdout",
       "text": [
        "+---+-----+\n",
        "| # | col |\n",
        "+---+-----+\n",
        "| 1 |  x  |\n",
        "| 2 | 3.0 |\n",
        "+---+-----+\n",
        "+---+-----+\n",
        "| # | col |\n",
        "+---+-----+\n",
        "| 0 | 1.0 |\n",
        "| 2 | 3.0 |\n",
        "+---+-----+\n"
       ]
      }
     ],
     "prompt_number": 21
    },
    {
     "cell_type": "markdown",
     "metadata": {},
     "source": [
      "From a `DataMatrix` object, you can access a cell by column name and index."
     ]
    },
    {
     "cell_type": "code",
     "collapsed": false,
     "input": [
      "print(dm.col[0])"
     ],
     "language": "python",
     "metadata": {},
     "outputs": [
      {
       "output_type": "stream",
       "stream": "stdout",
       "text": [
        "1.0\n"
       ]
      }
     ],
     "prompt_number": 22
    },
    {
     "cell_type": "heading",
     "level": 3,
     "metadata": {},
     "source": [
      "Iterating over rows, columns, and cells"
     ]
    },
    {
     "cell_type": "markdown",
     "metadata": {},
     "source": [
      "By iterating directly over a `DataMatrix` object, you get successive `Row` objects."
     ]
    },
    {
     "cell_type": "code",
     "collapsed": false,
     "input": [
      "for row in dm:\n",
      "    print(row)"
     ],
     "language": "python",
     "metadata": {},
     "outputs": [
      {
       "output_type": "stream",
       "stream": "stdout",
       "text": [
        "+------+-------+\n",
        "| Name | Value |\n",
        "+------+-------+\n",
        "| col  |  1.0  |\n",
        "+------+-------+\n",
        "+------+-------+\n",
        "| Name | Value |\n",
        "+------+-------+\n",
        "| col  |   x   |\n",
        "+------+-------+\n",
        "+------+-------+\n",
        "| Name | Value |\n",
        "+------+-------+\n",
        "| col  |  3.0  |\n",
        "+------+-------+\n"
       ]
      }
     ],
     "prompt_number": 23
    },
    {
     "cell_type": "markdown",
     "metadata": {},
     "source": [
      "By iterating over `DataMatrix.columns`, you get (column name, column object) tuples."
     ]
    },
    {
     "cell_type": "code",
     "collapsed": false,
     "input": [
      "for name, col in dm.columns:\n",
      "    print('%s = %s' % (name, col))"
     ],
     "language": "python",
     "metadata": {},
     "outputs": [
      {
       "output_type": "stream",
       "stream": "stdout",
       "text": [
        "col = col[1.0, 'x', 3.0]\n"
       ]
      }
     ],
     "prompt_number": 24
    },
    {
     "cell_type": "markdown",
     "metadata": {},
     "source": [
      "By iterating over a column (e.g. a `MixedColumn` object), you get cells."
     ]
    },
    {
     "cell_type": "code",
     "collapsed": false,
     "input": [
      "for value in dm.col:\n",
      "    print(value)"
     ],
     "language": "python",
     "metadata": {},
     "outputs": [
      {
       "output_type": "stream",
       "stream": "stdout",
       "text": [
        "1.0\n",
        "x\n",
        "3.0\n"
       ]
      }
     ],
     "prompt_number": 25
    },
    {
     "cell_type": "markdown",
     "metadata": {},
     "source": [
      "By iterating over a `Row` object, you get (column name, cell) tuples."
     ]
    },
    {
     "cell_type": "code",
     "collapsed": false,
     "input": [
      "for name, value in dm[2]:\n",
      "    print('%s = %s' % (name, value))"
     ],
     "language": "python",
     "metadata": {},
     "outputs": [
      {
       "output_type": "stream",
       "stream": "stdout",
       "text": [
        "col = 3.0\n"
       ]
      }
     ],
     "prompt_number": 26
    },
    {
     "cell_type": "heading",
     "level": 3,
     "metadata": {},
     "source": [
      "Selecting data"
     ]
    },
    {
     "cell_type": "markdown",
     "metadata": {},
     "source": [
      "You can select by directly comparing columns to values. This returns a new `DataMatrix` object."
     ]
    },
    {
     "cell_type": "code",
     "collapsed": false,
     "input": [
      "from datamatrix import DataMatrix\n",
      "\n",
      "dm = DataMatrix(length=10)\n",
      "dm.col = range(10)\n",
      "dm_subset = dm.col > 5\n",
      "print(dm_subset)"
     ],
     "language": "python",
     "metadata": {},
     "outputs": [
      {
       "output_type": "stream",
       "stream": "stdout",
       "text": [
        "+---+-----+\n",
        "| # | col |\n",
        "+---+-----+\n",
        "| 6 | 6.0 |\n",
        "| 7 | 7.0 |\n",
        "| 8 | 8.0 |\n",
        "| 9 | 9.0 |\n",
        "+---+-----+\n"
       ]
      }
     ],
     "prompt_number": 27
    },
    {
     "cell_type": "markdown",
     "metadata": {},
     "source": [
      "You can select by multiple criteria using the `|` (or), `&` (and), and `^` (xor) operators."
     ]
    },
    {
     "cell_type": "code",
     "collapsed": false,
     "input": [
      "dm_subset = (dm.col < 1) | (dm.col > 8)\n",
      "print(dm_subset)"
     ],
     "language": "python",
     "metadata": {},
     "outputs": [
      {
       "output_type": "stream",
       "stream": "stdout",
       "text": [
        "+---+-----+\n",
        "| # | col |\n",
        "+---+-----+\n",
        "| 0 | 0.0 |\n",
        "| 9 | 9.0 |\n",
        "+---+-----+\n"
       ]
      }
     ],
     "prompt_number": 28
    },
    {
     "cell_type": "code",
     "collapsed": false,
     "input": [
      "dm_subset = (dm.col > 1) & (dm.col < 8)\n",
      "print(dm_subset)"
     ],
     "language": "python",
     "metadata": {},
     "outputs": [
      {
       "output_type": "stream",
       "stream": "stdout",
       "text": [
        "+---+-----+\n",
        "| # | col |\n",
        "+---+-----+\n",
        "| 2 | 2.0 |\n",
        "| 3 | 3.0 |\n",
        "| 4 | 4.0 |\n",
        "| 5 | 5.0 |\n",
        "| 6 | 6.0 |\n",
        "| 7 | 7.0 |\n",
        "+---+-----+\n"
       ]
      }
     ],
     "prompt_number": 29
    },
    {
     "cell_type": "heading",
     "level": 3,
     "metadata": {},
     "source": [
      "Column operations (multiplication, etc.)"
     ]
    },
    {
     "cell_type": "markdown",
     "metadata": {},
     "source": [
      "All columns (also the `FloatColumn`, `IntColumn`, and `SeriesColumn` types described below) support operations."
     ]
    },
    {
     "cell_type": "code",
     "collapsed": false,
     "input": [
      "%matplotlib inline\n",
      "\n",
      "import random\n",
      "from datamatrix import DataMatrix\n",
      "from matplotlib import pyplot as plt\n",
      "\n",
      "dm = DataMatrix(length=100)\n",
      "dm.x = range(100)\n",
      "dm.y = 0\n",
      "dm.y[:50] += range(50)\n",
      "dm.y[:50] *= .5\n",
      "dm.y[50:] += range(50)\n",
      "\n",
      "plt.plot(dm.x, dm.y)\n",
      "plt.show()"
     ],
     "language": "python",
     "metadata": {},
     "outputs": [
      {
       "metadata": {},
       "output_type": "display_data",
       "png": "[encoded data removed]",
       "text": [
        "<matplotlib.figure.Figure at 0x7f2b4de77d30>"
       ]
      }
     ],
     "prompt_number": 30
    },
    {
     "cell_type": "heading",
     "level": 2,
     "metadata": {},
     "source": [
      "Working with numeric data"
     ]
    },
    {
     "cell_type": "markdown",
     "metadata": {},
     "source": [
      "The `FloatColumn` and `IntColumn` work much like the (default) `MixedColumn`, but are built on top of numpy arrays. Therefore, they are faster. As the name suggest, `FloatColumn` works with `float` values; non-numeric values are represented as `np.nan`. In contrast, `IntColumn` works with `int` values, and does not accept non-numeric values at all."
     ]
    },
    {
     "cell_type": "code",
     "collapsed": false,
     "input": [
      "%matplotlib inline\n",
      "\n",
      "from datamatrix import DataMatrix, FloatColumn, IntColumn\n",
      "import numpy as np\n",
      "from matplotlib import pyplot as plt\n",
      "\n",
      "dm = DataMatrix(length=100)\n",
      "dm.x = IntColumn\n",
      "dm.x = np.arange(100)\n",
      "dm.y = FloatColumn\n",
      "dm.y = np.sin(np.linspace(0, 2*np.pi, 100))\n",
      "\n",
      "plt.plot(dm.x, dm.y)\n",
      "plt.show()"
     ],
     "language": "python",
     "metadata": {},
     "outputs": [
      {
       "metadata": {},
       "output_type": "display_data",
       "png": "[encoded data removed]",
       "text": [
        "<matplotlib.figure.Figure at 0x7f2b4de80320>"
       ]
      }
     ],
     "prompt_number": 31
    },
    {
     "cell_type": "heading",
     "level": 2,
     "metadata": {},
     "source": [
      "Working with continous data series"
     ]
    },
    {
     "cell_type": "markdown",
     "metadata": {},
     "source": [
      "The `SeriesColumn` is 2 dimensional; that is, each cell is by itself an array of values. Therefore, the `SeriesColumn` can be used to work with sets of continuous data, such as EEG or eye-position traces."
     ]
    },
    {
     "cell_type": "code",
     "collapsed": false,
     "input": [
      "%matplotlib inline\n",
      "\n",
      "from datamatrix import DataMatrix, SeriesColumn\n",
      "import numpy as np\n",
      "from matplotlib import pyplot as plt\n",
      "\n",
      "length = 10 # Number of traces\n",
      "depth = 50 # Size of each trace\n",
      "\n",
      "x = np.linspace(0, 2*np.pi, depth)\n",
      "sinewave = np.sin(x)\n",
      "noise = np.random.random(depth)*2-1\n",
      "\n",
      "dm = DataMatrix(length=length)\n",
      "dm.series = SeriesColumn(depth=depth)\n",
      "dm.series[0] = noise\n",
      "dm.series[1:].setallrows(sinewave)\n",
      "dm.series[1:] *= np.linspace(-1, 1, 9)\n",
      "\n",
      "plt.xlim(x.min(), x.max())\n",
      "plt.plot(x, dm.series.plottable, color='green', linestyle=':')\n",
      "y1 = dm.series.mean-dm.series.std\n",
      "y2 = dm.series.mean+dm.series.std\n",
      "plt.fill_between(x, y1, y2, alpha=.2, color='blue')\n",
      "plt.plot(x, dm.series.mean, color='blue')\n",
      "plt.show()"
     ],
     "language": "python",
     "metadata": {},
     "outputs": [
      {
       "metadata": {},
       "output_type": "display_data",
       "png": "[encoded data removed]",
       "text": [
        "<matplotlib.figure.Figure at 0x7f2b4dfadd68>"
       ]
      }
     ],
     "prompt_number": 32
    }
   ],
   "metadata": {}
  }
 ]
}