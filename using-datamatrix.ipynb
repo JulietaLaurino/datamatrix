{
 "metadata": {
  "name": "",
  "signature": "sha256:94372f99cf60ca00b1292381aad894b5182afa2cc1ccfffb5795a8cf8e0bc360"
 },
 "nbformat": 3,
 "nbformat_minor": 0,
 "worksheets": [
  {
   "cells": [
    {
     "cell_type": "heading",
     "level": 1,
     "metadata": {},
     "source": [
      "Python datamatrix cheatsheet"
     ]
    },
    {
     "cell_type": "markdown",
     "metadata": {},
     "source": [
      "*An intuitive, Pythonic way to work with tabular data.*\n",
      "\n",
      "Sebastiaan Math\u00f4t  \n",
      "Copyright 2015-2016  \n",
      "http://www.cogsci.nl/smathot"
     ]
    },
    {
     "cell_type": "heading",
     "level": 2,
     "metadata": {},
     "source": [
      "About"
     ]
    },
    {
     "cell_type": "markdown",
     "metadata": {},
     "source": [
      "The `datamatrix` package provides a high-level, intuitive way to work with tabular data, that is, datasets that consist of named columns and numbered rows."
     ]
    },
    {
     "cell_type": "heading",
     "level": 2,
     "metadata": {},
     "source": [
      "License"
     ]
    },
    {
     "cell_type": "markdown",
     "metadata": {},
     "source": [
      "`python-datamatrix` is licensed under the [GNU General Public License v3](http://www.gnu.org/licenses/gpl-3.0.en.html)."
     ]
    },
    {
     "cell_type": "heading",
     "level": 2,
     "metadata": {},
     "source": [
      "Table of contents"
     ]
    },
    {
     "cell_type": "markdown",
     "metadata": {},
     "source": [
      "- [Basic usage](#Basic-usage)\n",
      "    - [Basic operations](#Basic-operations)\n",
      "    - [Accessing rows, columns, and cells](#Accessing-rows,-columns,-and-cells)\n",
      "    - [Iterating over rows, columns, and cells](#Iterating-over-rows,-columns,-and-cells)\n",
      "    - [Selecting data](#Selecting-data)\n",
      "- [Working with numeric data](#TODO)\n",
      "- [Working with data series](#TODO)"
     ]
    },
    {
     "cell_type": "heading",
     "level": 2,
     "metadata": {},
     "source": [
      "Basic usage"
     ]
    },
    {
     "cell_type": "heading",
     "level": 3,
     "metadata": {},
     "source": [
      "Basic operations"
     ]
    },
    {
     "cell_type": "markdown",
     "metadata": {},
     "source": [
      "Create a new `DataMatrix` object, and add a column (named `col`). By default, the column is of the `MixedColumn` type, which can store numeric and string data."
     ]
    },
    {
     "cell_type": "code",
     "collapsed": false,
     "input": [
      "from datamatrix import DataMatrix\n",
      "dm = DataMatrix(length=3)\n",
      "dm.col = 1, 2, 3\n",
      "dm.col[1] = 'x'\n",
      "print(dm)"
     ],
     "language": "python",
     "metadata": {},
     "outputs": [
      {
       "output_type": "stream",
       "stream": "stdout",
       "text": [
        "+---+-----+\n",
        "| # | col |\n",
        "+---+-----+\n",
        "| 0 | 1.0 |\n",
        "| 1 |  x  |\n",
        "| 2 | 3.0 |\n",
        "+---+-----+\n"
       ]
      }
     ],
     "prompt_number": 1
    },
    {
     "cell_type": "markdown",
     "metadata": {},
     "source": [
      "Concatenating two `DataMatrix` objects using the `<<` operator. Empty fields become `None`."
     ]
    },
    {
     "cell_type": "code",
     "collapsed": false,
     "input": [
      "dm2 = DataMatrix(length=1)\n",
      "dm2.col2 = 'tmp'\n",
      "dm <<= dm2\n",
      "print(dm)"
     ],
     "language": "python",
     "metadata": {},
     "outputs": [
      {
       "output_type": "stream",
       "stream": "stdout",
       "text": [
        "+---+------+------+\n",
        "| # | col  | col2 |\n",
        "+---+------+------+\n",
        "| 0 | 1.0  | None |\n",
        "| 1 |  x   | None |\n",
        "| 2 | 3.0  | None |\n",
        "| 3 | None | tmp  |\n",
        "+---+------+------+\n"
       ]
      }
     ],
     "prompt_number": 2
    },
    {
     "cell_type": "markdown",
     "metadata": {},
     "source": [
      "Removing the last row (i.e. reducing the length) and removing a column."
     ]
    },
    {
     "cell_type": "code",
     "collapsed": false,
     "input": [
      "dm.length = 3\n",
      "del dm.col2\n",
      "print(dm)"
     ],
     "language": "python",
     "metadata": {},
     "outputs": [
      {
       "output_type": "stream",
       "stream": "stdout",
       "text": [
        "+---+-----+\n",
        "| # | col |\n",
        "+---+-----+\n",
        "| 0 | 1.0 |\n",
        "| 1 |  x  |\n",
        "| 2 | 3.0 |\n",
        "+---+-----+\n"
       ]
      }
     ],
     "prompt_number": 3
    },
    {
     "cell_type": "heading",
     "level": 3,
     "metadata": {},
     "source": [
      "Accessing rows, columns, and cells"
     ]
    },
    {
     "cell_type": "markdown",
     "metadata": {},
     "source": [
      "Access a row by index. This returns a `Row` object."
     ]
    },
    {
     "cell_type": "code",
     "collapsed": false,
     "input": [
      "row = dm[0]\n",
      "print(row)"
     ],
     "language": "python",
     "metadata": {},
     "outputs": [
      {
       "output_type": "stream",
       "stream": "stdout",
       "text": [
        "+------+-------+\n",
        "| Name | Value |\n",
        "+------+-------+\n",
        "| col  |  1.0  |\n",
        "+------+-------+\n"
       ]
      }
     ],
     "prompt_number": 4
    },
    {
     "cell_type": "markdown",
     "metadata": {},
     "source": [
      "From a `Row` object, you can get a cell by column name."
     ]
    },
    {
     "cell_type": "code",
     "collapsed": false,
     "input": [
      "print(row.col)"
     ],
     "language": "python",
     "metadata": {},
     "outputs": [
      {
       "output_type": "stream",
       "stream": "stdout",
       "text": [
        "1.0\n"
       ]
      }
     ],
     "prompt_number": 5
    },
    {
     "cell_type": "markdown",
     "metadata": {},
     "source": [
      "From a `DataMatrix` object, you can access a column by name. This returns a `MixedColumn` object (or another column object)."
     ]
    },
    {
     "cell_type": "code",
     "collapsed": false,
     "input": [
      "col = dm.col"
     ],
     "language": "python",
     "metadata": {},
     "outputs": [],
     "prompt_number": 6
    },
    {
     "cell_type": "markdown",
     "metadata": {},
     "source": [
      "From a `MixedColumn` object, you can get a cell by index."
     ]
    },
    {
     "cell_type": "code",
     "collapsed": false,
     "input": [
      "print(col[0])"
     ],
     "language": "python",
     "metadata": {},
     "outputs": [
      {
       "output_type": "stream",
       "stream": "stdout",
       "text": [
        "1.0\n"
       ]
      }
     ],
     "prompt_number": 7
    },
    {
     "cell_type": "markdown",
     "metadata": {},
     "source": [
      "From a `DataMatrix` object, you get. This returns another `DataMatrix` object."
     ]
    },
    {
     "cell_type": "code",
     "collapsed": false,
     "input": [
      "dm_slice1 = dm[1:3]\n",
      "print(dm_slice1)\n",
      "dm_slice2 = dm[0, 2]\n",
      "print(dm_slice2)"
     ],
     "language": "python",
     "metadata": {},
     "outputs": [
      {
       "output_type": "stream",
       "stream": "stdout",
       "text": [
        "+---+-----+\n",
        "| # | col |\n",
        "+---+-----+\n",
        "| 1 |  x  |\n",
        "| 2 | 3.0 |\n",
        "+---+-----+\n",
        "+---+-----+\n",
        "| # | col |\n",
        "+---+-----+\n",
        "| 0 | 1.0 |\n",
        "| 2 | 3.0 |\n",
        "+---+-----+\n"
       ]
      }
     ],
     "prompt_number": 8
    },
    {
     "cell_type": "markdown",
     "metadata": {},
     "source": [
      "From a `DataMatrix` object, you can access a cell by column name and index."
     ]
    },
    {
     "cell_type": "code",
     "collapsed": false,
     "input": [
      "print(dm.col[0])"
     ],
     "language": "python",
     "metadata": {},
     "outputs": [
      {
       "output_type": "stream",
       "stream": "stdout",
       "text": [
        "1.0\n"
       ]
      }
     ],
     "prompt_number": 9
    },
    {
     "cell_type": "heading",
     "level": 3,
     "metadata": {},
     "source": [
      "Iterating over rows, columns, and cells"
     ]
    },
    {
     "cell_type": "markdown",
     "metadata": {},
     "source": [
      "By iterating directly over a `DataMatrix` object, you get successive `Row` objects."
     ]
    },
    {
     "cell_type": "code",
     "collapsed": false,
     "input": [
      "for row in dm:\n",
      "    print(row)"
     ],
     "language": "python",
     "metadata": {},
     "outputs": [
      {
       "output_type": "stream",
       "stream": "stdout",
       "text": [
        "+------+-------+\n",
        "| Name | Value |\n",
        "+------+-------+\n",
        "| col  |  1.0  |\n",
        "+------+-------+\n",
        "+------+-------+\n",
        "| Name | Value |\n",
        "+------+-------+\n",
        "| col  |   x   |\n",
        "+------+-------+\n",
        "+------+-------+\n",
        "| Name | Value |\n",
        "+------+-------+\n",
        "| col  |  3.0  |\n",
        "+------+-------+\n"
       ]
      }
     ],
     "prompt_number": 10
    },
    {
     "cell_type": "markdown",
     "metadata": {},
     "source": [
      "By iterating over `DataMatrix.columns`, you get (column name, column object) tuples."
     ]
    },
    {
     "cell_type": "code",
     "collapsed": false,
     "input": [
      "for name, col in dm.columns:\n",
      "    print('%s = %s' % (name, col))"
     ],
     "language": "python",
     "metadata": {},
     "outputs": [
      {
       "output_type": "stream",
       "stream": "stdout",
       "text": [
        "col = col[1.0, 'x', 3.0]\n"
       ]
      }
     ],
     "prompt_number": 11
    },
    {
     "cell_type": "markdown",
     "metadata": {},
     "source": [
      "By iterating over a column (e.g. a `MixedColumn` object), you get cells."
     ]
    },
    {
     "cell_type": "code",
     "collapsed": false,
     "input": [
      "for value in dm.col:\n",
      "    print(value)"
     ],
     "language": "python",
     "metadata": {},
     "outputs": [
      {
       "output_type": "stream",
       "stream": "stdout",
       "text": [
        "1.0\n",
        "x\n",
        "3.0\n"
       ]
      }
     ],
     "prompt_number": 12
    },
    {
     "cell_type": "markdown",
     "metadata": {},
     "source": [
      "By iterating over a `Row` object, you get (column name, cell) tuples."
     ]
    },
    {
     "cell_type": "code",
     "collapsed": false,
     "input": [
      "for name, value in dm[2]:\n",
      "    print('%s = %s' % (name, value))"
     ],
     "language": "python",
     "metadata": {},
     "outputs": [
      {
       "output_type": "stream",
       "stream": "stdout",
       "text": [
        "col = 3.0\n"
       ]
      }
     ],
     "prompt_number": 13
    },
    {
     "cell_type": "heading",
     "level": 3,
     "metadata": {},
     "source": [
      "Selecting data"
     ]
    },
    {
     "cell_type": "markdown",
     "metadata": {},
     "source": [
      "You can select by directly comparing columns to values. This returns a new `DataMatrix` object."
     ]
    },
    {
     "cell_type": "code",
     "collapsed": false,
     "input": [
      "dm = DataMatrix(length=10)\n",
      "dm.col = range(10)\n",
      "dm_subset = dm.col > 5\n",
      "print(dm_subset)"
     ],
     "language": "python",
     "metadata": {},
     "outputs": [
      {
       "output_type": "stream",
       "stream": "stdout",
       "text": [
        "+---+-----+\n",
        "| # | col |\n",
        "+---+-----+\n",
        "| 6 | 6.0 |\n",
        "| 7 | 7.0 |\n",
        "| 8 | 8.0 |\n",
        "| 9 | 9.0 |\n",
        "+---+-----+\n"
       ]
      }
     ],
     "prompt_number": 22
    },
    {
     "cell_type": "markdown",
     "metadata": {},
     "source": [
      "You can select by multiple criteria using the `|` (or), `&` (and), and `^` (xor) operators."
     ]
    },
    {
     "cell_type": "code",
     "collapsed": false,
     "input": [
      "dm_subset = (dm.col < 1) | (dm.col > 8)\n",
      "print(dm_subset)"
     ],
     "language": "python",
     "metadata": {},
     "outputs": [
      {
       "output_type": "stream",
       "stream": "stdout",
       "text": [
        "+---+-----+\n",
        "| # | col |\n",
        "+---+-----+\n",
        "| 0 | 0.0 |\n",
        "| 9 | 9.0 |\n",
        "+---+-----+\n"
       ]
      }
     ],
     "prompt_number": 19
    },
    {
     "cell_type": "code",
     "collapsed": false,
     "input": [
      "dm_subset = (dm.col > 1) & (dm.col < 8)\n",
      "print(dm_subset)"
     ],
     "language": "python",
     "metadata": {},
     "outputs": [
      {
       "output_type": "stream",
       "stream": "stdout",
       "text": [
        "+---+-----+\n",
        "| # | col |\n",
        "+---+-----+\n",
        "| 2 | 2.0 |\n",
        "| 3 | 3.0 |\n",
        "| 4 | 4.0 |\n",
        "| 5 | 5.0 |\n",
        "| 6 | 6.0 |\n",
        "| 7 | 7.0 |\n",
        "+---+-----+\n"
       ]
      }
     ],
     "prompt_number": 20
    }
   ],
   "metadata": {}
  }
 ]
}